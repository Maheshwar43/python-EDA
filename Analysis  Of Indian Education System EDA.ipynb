{
 "cells": [
  {
   "cell_type": "code",
   "execution_count": 1,
   "id": "35ec5b5c",
   "metadata": {},
   "outputs": [],
   "source": [
    "import pandas as pd\n",
    "import numpy as np\n"
   ]
  },
  {
   "cell_type": "code",
   "execution_count": 2,
   "id": "894bbdb5",
   "metadata": {},
   "outputs": [],
   "source": [
    "dropout = pd.read_csv(\"dropout-ratio-2012-2015.csv\")"
   ]
  },
  {
   "cell_type": "code",
   "execution_count": 3,
   "id": "19836f14",
   "metadata": {},
   "outputs": [
    {
     "data": {
      "text/html": [
       "<div>\n",
       "<style scoped>\n",
       "    .dataframe tbody tr th:only-of-type {\n",
       "        vertical-align: middle;\n",
       "    }\n",
       "\n",
       "    .dataframe tbody tr th {\n",
       "        vertical-align: top;\n",
       "    }\n",
       "\n",
       "    .dataframe thead th {\n",
       "        text-align: right;\n",
       "    }\n",
       "</style>\n",
       "<table border=\"1\" class=\"dataframe\">\n",
       "  <thead>\n",
       "    <tr style=\"text-align: right;\">\n",
       "      <th></th>\n",
       "      <th>State_UT</th>\n",
       "      <th>year</th>\n",
       "      <th>Primary_Boys</th>\n",
       "      <th>Primary_Girls</th>\n",
       "      <th>Primary_Total</th>\n",
       "      <th>Upper Primary_Boys</th>\n",
       "      <th>Upper Primary_Girls</th>\n",
       "      <th>Upper Primary_Total</th>\n",
       "      <th>Secondary _Boys</th>\n",
       "      <th>Secondary _Girls</th>\n",
       "      <th>Secondary _Total</th>\n",
       "      <th>HrSecondary_Boys</th>\n",
       "      <th>HrSecondary_Girls</th>\n",
       "      <th>HrSecondary_Total</th>\n",
       "    </tr>\n",
       "  </thead>\n",
       "  <tbody>\n",
       "    <tr>\n",
       "      <th>0</th>\n",
       "      <td>A &amp; N Islands</td>\n",
       "      <td>2012-13</td>\n",
       "      <td>0.83</td>\n",
       "      <td>0.51</td>\n",
       "      <td>0.68</td>\n",
       "      <td>Uppe_r_Primary</td>\n",
       "      <td>1.09</td>\n",
       "      <td>1.23</td>\n",
       "      <td>5.57</td>\n",
       "      <td>5.55</td>\n",
       "      <td>5.56</td>\n",
       "      <td>17.66</td>\n",
       "      <td>10.15</td>\n",
       "      <td>14.14</td>\n",
       "    </tr>\n",
       "    <tr>\n",
       "      <th>1</th>\n",
       "      <td>A &amp; N Islands</td>\n",
       "      <td>2013-14</td>\n",
       "      <td>1.35</td>\n",
       "      <td>1.06</td>\n",
       "      <td>1.21</td>\n",
       "      <td>NR</td>\n",
       "      <td>1.54</td>\n",
       "      <td>0.51</td>\n",
       "      <td>8.36</td>\n",
       "      <td>5.98</td>\n",
       "      <td>7.2</td>\n",
       "      <td>18.94</td>\n",
       "      <td>12.2</td>\n",
       "      <td>15.87</td>\n",
       "    </tr>\n",
       "    <tr>\n",
       "      <th>2</th>\n",
       "      <td>A &amp; N Islands</td>\n",
       "      <td>2014-15</td>\n",
       "      <td>0.47</td>\n",
       "      <td>0.55</td>\n",
       "      <td>0.51</td>\n",
       "      <td>1.44</td>\n",
       "      <td>1.95</td>\n",
       "      <td>1.69</td>\n",
       "      <td>11.47</td>\n",
       "      <td>8.16</td>\n",
       "      <td>9.87</td>\n",
       "      <td>21.05</td>\n",
       "      <td>12.21</td>\n",
       "      <td>16.93</td>\n",
       "    </tr>\n",
       "    <tr>\n",
       "      <th>3</th>\n",
       "      <td>Andhra Pradesh</td>\n",
       "      <td>2012-13</td>\n",
       "      <td>3.3</td>\n",
       "      <td>3.05</td>\n",
       "      <td>3.18</td>\n",
       "      <td>3.21</td>\n",
       "      <td>3.51</td>\n",
       "      <td>3.36</td>\n",
       "      <td>12.21</td>\n",
       "      <td>13.25</td>\n",
       "      <td>12.72</td>\n",
       "      <td>2.66</td>\n",
       "      <td>NR</td>\n",
       "      <td>0.35</td>\n",
       "    </tr>\n",
       "    <tr>\n",
       "      <th>4</th>\n",
       "      <td>Andhra Pradesh</td>\n",
       "      <td>2013-14</td>\n",
       "      <td>4.31</td>\n",
       "      <td>4.39</td>\n",
       "      <td>4.35</td>\n",
       "      <td>3.46</td>\n",
       "      <td>4.12</td>\n",
       "      <td>3.78</td>\n",
       "      <td>11.95</td>\n",
       "      <td>13.37</td>\n",
       "      <td>12.65</td>\n",
       "      <td>12.65</td>\n",
       "      <td>10.85</td>\n",
       "      <td>11.79</td>\n",
       "    </tr>\n",
       "  </tbody>\n",
       "</table>\n",
       "</div>"
      ],
      "text/plain": [
       "         State_UT     year Primary_Boys Primary_Girls Primary_Total  \\\n",
       "0   A & N Islands  2012-13         0.83          0.51          0.68   \n",
       "1   A & N Islands  2013-14         1.35          1.06          1.21   \n",
       "2   A & N Islands  2014-15         0.47          0.55          0.51   \n",
       "3  Andhra Pradesh  2012-13          3.3          3.05          3.18   \n",
       "4  Andhra Pradesh  2013-14         4.31          4.39          4.35   \n",
       "\n",
       "  Upper Primary_Boys Upper Primary_Girls Upper Primary_Total Secondary _Boys  \\\n",
       "0     Uppe_r_Primary                1.09                1.23            5.57   \n",
       "1                 NR                1.54                0.51            8.36   \n",
       "2               1.44                1.95                1.69           11.47   \n",
       "3               3.21                3.51                3.36           12.21   \n",
       "4               3.46                4.12                3.78           11.95   \n",
       "\n",
       "  Secondary _Girls Secondary _Total HrSecondary_Boys HrSecondary_Girls  \\\n",
       "0             5.55             5.56            17.66             10.15   \n",
       "1             5.98              7.2            18.94              12.2   \n",
       "2             8.16             9.87            21.05             12.21   \n",
       "3            13.25            12.72             2.66                NR   \n",
       "4            13.37            12.65            12.65             10.85   \n",
       "\n",
       "  HrSecondary_Total  \n",
       "0             14.14  \n",
       "1             15.87  \n",
       "2             16.93  \n",
       "3              0.35  \n",
       "4             11.79  "
      ]
     },
     "execution_count": 3,
     "metadata": {},
     "output_type": "execute_result"
    }
   ],
   "source": [
    "dropout.head()"
   ]
  },
  {
   "cell_type": "code",
   "execution_count": 4,
   "id": "4666b838",
   "metadata": {},
   "outputs": [
    {
     "data": {
      "text/plain": [
       "Index(['State_UT', 'year', 'Primary_Boys', 'Primary_Girls', 'Primary_Total',\n",
       "       'Upper Primary_Boys', 'Upper Primary_Girls', 'Upper Primary_Total',\n",
       "       'Secondary _Boys', 'Secondary _Girls', 'Secondary _Total',\n",
       "       'HrSecondary_Boys', 'HrSecondary_Girls', 'HrSecondary_Total'],\n",
       "      dtype='object')"
      ]
     },
     "execution_count": 4,
     "metadata": {},
     "output_type": "execute_result"
    }
   ],
   "source": [
    "dropout.columns # for checking how many columns present"
   ]
  },
  {
   "cell_type": "code",
   "execution_count": 6,
   "id": "3f7327bb",
   "metadata": {},
   "outputs": [
    {
     "data": {
      "text/html": [
       "<div>\n",
       "<style scoped>\n",
       "    .dataframe tbody tr th:only-of-type {\n",
       "        vertical-align: middle;\n",
       "    }\n",
       "\n",
       "    .dataframe tbody tr th {\n",
       "        vertical-align: top;\n",
       "    }\n",
       "\n",
       "    .dataframe thead th {\n",
       "        text-align: right;\n",
       "    }\n",
       "</style>\n",
       "<table border=\"1\" class=\"dataframe\">\n",
       "  <thead>\n",
       "    <tr style=\"text-align: right;\">\n",
       "      <th></th>\n",
       "      <th>State_UT</th>\n",
       "      <th>year</th>\n",
       "      <th>Primary_Boys</th>\n",
       "      <th>Primary_Girls</th>\n",
       "      <th>Primary_Total</th>\n",
       "      <th>Upper Primary_Boys</th>\n",
       "      <th>Upper Primary_Girls</th>\n",
       "      <th>Upper Primary_Total</th>\n",
       "      <th>Secondary _Boys</th>\n",
       "      <th>Secondary _Girls</th>\n",
       "      <th>Secondary _Total</th>\n",
       "      <th>HrSecondary_Boys</th>\n",
       "      <th>HrSecondary_Girls</th>\n",
       "      <th>HrSecondary_Total</th>\n",
       "    </tr>\n",
       "  </thead>\n",
       "  <tbody>\n",
       "    <tr>\n",
       "      <th>0</th>\n",
       "      <td>False</td>\n",
       "      <td>False</td>\n",
       "      <td>False</td>\n",
       "      <td>False</td>\n",
       "      <td>False</td>\n",
       "      <td>False</td>\n",
       "      <td>False</td>\n",
       "      <td>False</td>\n",
       "      <td>False</td>\n",
       "      <td>False</td>\n",
       "      <td>False</td>\n",
       "      <td>False</td>\n",
       "      <td>False</td>\n",
       "      <td>False</td>\n",
       "    </tr>\n",
       "    <tr>\n",
       "      <th>1</th>\n",
       "      <td>False</td>\n",
       "      <td>False</td>\n",
       "      <td>False</td>\n",
       "      <td>False</td>\n",
       "      <td>False</td>\n",
       "      <td>False</td>\n",
       "      <td>False</td>\n",
       "      <td>False</td>\n",
       "      <td>False</td>\n",
       "      <td>False</td>\n",
       "      <td>False</td>\n",
       "      <td>False</td>\n",
       "      <td>False</td>\n",
       "      <td>False</td>\n",
       "    </tr>\n",
       "    <tr>\n",
       "      <th>2</th>\n",
       "      <td>False</td>\n",
       "      <td>False</td>\n",
       "      <td>False</td>\n",
       "      <td>False</td>\n",
       "      <td>False</td>\n",
       "      <td>False</td>\n",
       "      <td>False</td>\n",
       "      <td>False</td>\n",
       "      <td>False</td>\n",
       "      <td>False</td>\n",
       "      <td>False</td>\n",
       "      <td>False</td>\n",
       "      <td>False</td>\n",
       "      <td>False</td>\n",
       "    </tr>\n",
       "    <tr>\n",
       "      <th>3</th>\n",
       "      <td>False</td>\n",
       "      <td>False</td>\n",
       "      <td>False</td>\n",
       "      <td>False</td>\n",
       "      <td>False</td>\n",
       "      <td>False</td>\n",
       "      <td>False</td>\n",
       "      <td>False</td>\n",
       "      <td>False</td>\n",
       "      <td>False</td>\n",
       "      <td>False</td>\n",
       "      <td>False</td>\n",
       "      <td>False</td>\n",
       "      <td>False</td>\n",
       "    </tr>\n",
       "    <tr>\n",
       "      <th>4</th>\n",
       "      <td>False</td>\n",
       "      <td>False</td>\n",
       "      <td>False</td>\n",
       "      <td>False</td>\n",
       "      <td>False</td>\n",
       "      <td>False</td>\n",
       "      <td>False</td>\n",
       "      <td>False</td>\n",
       "      <td>False</td>\n",
       "      <td>False</td>\n",
       "      <td>False</td>\n",
       "      <td>False</td>\n",
       "      <td>False</td>\n",
       "      <td>False</td>\n",
       "    </tr>\n",
       "    <tr>\n",
       "      <th>...</th>\n",
       "      <td>...</td>\n",
       "      <td>...</td>\n",
       "      <td>...</td>\n",
       "      <td>...</td>\n",
       "      <td>...</td>\n",
       "      <td>...</td>\n",
       "      <td>...</td>\n",
       "      <td>...</td>\n",
       "      <td>...</td>\n",
       "      <td>...</td>\n",
       "      <td>...</td>\n",
       "      <td>...</td>\n",
       "      <td>...</td>\n",
       "      <td>...</td>\n",
       "    </tr>\n",
       "    <tr>\n",
       "      <th>105</th>\n",
       "      <td>False</td>\n",
       "      <td>False</td>\n",
       "      <td>False</td>\n",
       "      <td>False</td>\n",
       "      <td>False</td>\n",
       "      <td>False</td>\n",
       "      <td>False</td>\n",
       "      <td>False</td>\n",
       "      <td>False</td>\n",
       "      <td>False</td>\n",
       "      <td>False</td>\n",
       "      <td>False</td>\n",
       "      <td>False</td>\n",
       "      <td>False</td>\n",
       "    </tr>\n",
       "    <tr>\n",
       "      <th>106</th>\n",
       "      <td>False</td>\n",
       "      <td>False</td>\n",
       "      <td>False</td>\n",
       "      <td>False</td>\n",
       "      <td>False</td>\n",
       "      <td>False</td>\n",
       "      <td>False</td>\n",
       "      <td>False</td>\n",
       "      <td>False</td>\n",
       "      <td>False</td>\n",
       "      <td>False</td>\n",
       "      <td>False</td>\n",
       "      <td>False</td>\n",
       "      <td>False</td>\n",
       "    </tr>\n",
       "    <tr>\n",
       "      <th>107</th>\n",
       "      <td>False</td>\n",
       "      <td>False</td>\n",
       "      <td>False</td>\n",
       "      <td>False</td>\n",
       "      <td>False</td>\n",
       "      <td>False</td>\n",
       "      <td>False</td>\n",
       "      <td>False</td>\n",
       "      <td>False</td>\n",
       "      <td>False</td>\n",
       "      <td>False</td>\n",
       "      <td>False</td>\n",
       "      <td>False</td>\n",
       "      <td>False</td>\n",
       "    </tr>\n",
       "    <tr>\n",
       "      <th>108</th>\n",
       "      <td>False</td>\n",
       "      <td>False</td>\n",
       "      <td>False</td>\n",
       "      <td>False</td>\n",
       "      <td>False</td>\n",
       "      <td>False</td>\n",
       "      <td>False</td>\n",
       "      <td>False</td>\n",
       "      <td>False</td>\n",
       "      <td>False</td>\n",
       "      <td>False</td>\n",
       "      <td>False</td>\n",
       "      <td>False</td>\n",
       "      <td>False</td>\n",
       "    </tr>\n",
       "    <tr>\n",
       "      <th>109</th>\n",
       "      <td>False</td>\n",
       "      <td>False</td>\n",
       "      <td>False</td>\n",
       "      <td>False</td>\n",
       "      <td>False</td>\n",
       "      <td>False</td>\n",
       "      <td>False</td>\n",
       "      <td>False</td>\n",
       "      <td>False</td>\n",
       "      <td>False</td>\n",
       "      <td>False</td>\n",
       "      <td>False</td>\n",
       "      <td>False</td>\n",
       "      <td>False</td>\n",
       "    </tr>\n",
       "  </tbody>\n",
       "</table>\n",
       "<p>110 rows × 14 columns</p>\n",
       "</div>"
      ],
      "text/plain": [
       "     State_UT   year  Primary_Boys  Primary_Girls  Primary_Total  \\\n",
       "0       False  False         False          False          False   \n",
       "1       False  False         False          False          False   \n",
       "2       False  False         False          False          False   \n",
       "3       False  False         False          False          False   \n",
       "4       False  False         False          False          False   \n",
       "..        ...    ...           ...            ...            ...   \n",
       "105     False  False         False          False          False   \n",
       "106     False  False         False          False          False   \n",
       "107     False  False         False          False          False   \n",
       "108     False  False         False          False          False   \n",
       "109     False  False         False          False          False   \n",
       "\n",
       "     Upper Primary_Boys  Upper Primary_Girls  Upper Primary_Total  \\\n",
       "0                 False                False                False   \n",
       "1                 False                False                False   \n",
       "2                 False                False                False   \n",
       "3                 False                False                False   \n",
       "4                 False                False                False   \n",
       "..                  ...                  ...                  ...   \n",
       "105               False                False                False   \n",
       "106               False                False                False   \n",
       "107               False                False                False   \n",
       "108               False                False                False   \n",
       "109               False                False                False   \n",
       "\n",
       "     Secondary _Boys  Secondary _Girls  Secondary _Total  HrSecondary_Boys  \\\n",
       "0              False             False             False             False   \n",
       "1              False             False             False             False   \n",
       "2              False             False             False             False   \n",
       "3              False             False             False             False   \n",
       "4              False             False             False             False   \n",
       "..               ...               ...               ...               ...   \n",
       "105            False             False             False             False   \n",
       "106            False             False             False             False   \n",
       "107            False             False             False             False   \n",
       "108            False             False             False             False   \n",
       "109            False             False             False             False   \n",
       "\n",
       "     HrSecondary_Girls  HrSecondary_Total  \n",
       "0                False              False  \n",
       "1                False              False  \n",
       "2                False              False  \n",
       "3                False              False  \n",
       "4                False              False  \n",
       "..                 ...                ...  \n",
       "105              False              False  \n",
       "106              False              False  \n",
       "107              False              False  \n",
       "108              False              False  \n",
       "109              False              False  \n",
       "\n",
       "[110 rows x 14 columns]"
      ]
     },
     "execution_count": 6,
     "metadata": {},
     "output_type": "execute_result"
    }
   ],
   "source": [
    "dropout.isna() # for checking null values"
   ]
  },
  {
   "cell_type": "code",
   "execution_count": 8,
   "id": "498e0427",
   "metadata": {},
   "outputs": [
    {
     "data": {
      "text/plain": [
       "State_UT               False\n",
       "year                   False\n",
       "Primary_Boys           False\n",
       "Primary_Girls          False\n",
       "Primary_Total          False\n",
       "Upper Primary_Boys     False\n",
       "Upper Primary_Girls    False\n",
       "Upper Primary_Total    False\n",
       "Secondary _Boys        False\n",
       "Secondary _Girls       False\n",
       "Secondary _Total       False\n",
       "HrSecondary_Boys       False\n",
       "HrSecondary_Girls      False\n",
       "HrSecondary_Total      False\n",
       "dtype: bool"
      ]
     },
     "execution_count": 8,
     "metadata": {},
     "output_type": "execute_result"
    }
   ],
   "source": [
    "dropout.isna().any() # checking each columns null values "
   ]
  },
  {
   "cell_type": "code",
   "execution_count": 9,
   "id": "95a301e5",
   "metadata": {},
   "outputs": [
    {
     "name": "stdout",
     "output_type": "stream",
     "text": [
      "        State_UT     year Primary_Boys Primary_Girls Primary_Total  \\\n",
      "104  West Bengal  2012-13         6.88          5.71           6.3   \n",
      "105  West Bengal  2013-14         3.44          2.37          2.91   \n",
      "106  West Bengal  2014-15         2.13          0.79          1.47   \n",
      "\n",
      "    Upper Primary_Boys Upper Primary_Girls Upper Primary_Total  \\\n",
      "104               6.29                4.16                5.18   \n",
      "105               5.63                 3.1                4.31   \n",
      "106               5.84                2.88                 4.3   \n",
      "\n",
      "    Secondary _Boys Secondary _Girls Secondary _Total HrSecondary_Boys  \\\n",
      "104           14.95            19.41             17.3             7.81   \n",
      "105           16.73            19.77            18.34             8.03   \n",
      "106           16.33            19.06             17.8             8.18   \n",
      "\n",
      "    HrSecondary_Girls HrSecondary_Total  \n",
      "104              8.49              8.13  \n",
      "105              7.76               7.9  \n",
      "106              8.04              8.11  \n"
     ]
    }
   ],
   "source": [
    "data_wb=dropout[dropout['State_UT']=='West Bengal']\n",
    "print(data_wb.head())"
   ]
  },
  {
   "cell_type": "code",
   "execution_count": 10,
   "id": "3ac1a4cc",
   "metadata": {},
   "outputs": [
    {
     "data": {
      "text/html": [
       "<div>\n",
       "<style scoped>\n",
       "    .dataframe tbody tr th:only-of-type {\n",
       "        vertical-align: middle;\n",
       "    }\n",
       "\n",
       "    .dataframe tbody tr th {\n",
       "        vertical-align: top;\n",
       "    }\n",
       "\n",
       "    .dataframe thead th {\n",
       "        text-align: right;\n",
       "    }\n",
       "</style>\n",
       "<table border=\"1\" class=\"dataframe\">\n",
       "  <thead>\n",
       "    <tr style=\"text-align: right;\">\n",
       "      <th></th>\n",
       "      <th>State_UT</th>\n",
       "      <th>year</th>\n",
       "      <th>Primary_Boys</th>\n",
       "      <th>Primary_Girls</th>\n",
       "      <th>Primary_Total</th>\n",
       "      <th>Upper Primary_Boys</th>\n",
       "      <th>Upper Primary_Girls</th>\n",
       "      <th>Upper Primary_Total</th>\n",
       "      <th>Secondary _Boys</th>\n",
       "      <th>Secondary _Girls</th>\n",
       "      <th>Secondary _Total</th>\n",
       "      <th>HrSecondary_Boys</th>\n",
       "      <th>HrSecondary_Girls</th>\n",
       "      <th>HrSecondary_Total</th>\n",
       "    </tr>\n",
       "  </thead>\n",
       "  <tbody>\n",
       "    <tr>\n",
       "      <th>104</th>\n",
       "      <td>West Bengal</td>\n",
       "      <td>2012-13</td>\n",
       "      <td>6.88</td>\n",
       "      <td>5.71</td>\n",
       "      <td>6.3</td>\n",
       "      <td>6.29</td>\n",
       "      <td>4.16</td>\n",
       "      <td>5.18</td>\n",
       "      <td>14.95</td>\n",
       "      <td>19.41</td>\n",
       "      <td>17.3</td>\n",
       "      <td>7.81</td>\n",
       "      <td>8.49</td>\n",
       "      <td>8.13</td>\n",
       "    </tr>\n",
       "    <tr>\n",
       "      <th>105</th>\n",
       "      <td>West Bengal</td>\n",
       "      <td>2013-14</td>\n",
       "      <td>3.44</td>\n",
       "      <td>2.37</td>\n",
       "      <td>2.91</td>\n",
       "      <td>5.63</td>\n",
       "      <td>3.1</td>\n",
       "      <td>4.31</td>\n",
       "      <td>16.73</td>\n",
       "      <td>19.77</td>\n",
       "      <td>18.34</td>\n",
       "      <td>8.03</td>\n",
       "      <td>7.76</td>\n",
       "      <td>7.9</td>\n",
       "    </tr>\n",
       "    <tr>\n",
       "      <th>106</th>\n",
       "      <td>West Bengal</td>\n",
       "      <td>2014-15</td>\n",
       "      <td>2.13</td>\n",
       "      <td>0.79</td>\n",
       "      <td>1.47</td>\n",
       "      <td>5.84</td>\n",
       "      <td>2.88</td>\n",
       "      <td>4.3</td>\n",
       "      <td>16.33</td>\n",
       "      <td>19.06</td>\n",
       "      <td>17.8</td>\n",
       "      <td>8.18</td>\n",
       "      <td>8.04</td>\n",
       "      <td>8.11</td>\n",
       "    </tr>\n",
       "  </tbody>\n",
       "</table>\n",
       "</div>"
      ],
      "text/plain": [
       "        State_UT     year Primary_Boys Primary_Girls Primary_Total  \\\n",
       "104  West Bengal  2012-13         6.88          5.71           6.3   \n",
       "105  West Bengal  2013-14         3.44          2.37          2.91   \n",
       "106  West Bengal  2014-15         2.13          0.79          1.47   \n",
       "\n",
       "    Upper Primary_Boys Upper Primary_Girls Upper Primary_Total  \\\n",
       "104               6.29                4.16                5.18   \n",
       "105               5.63                 3.1                4.31   \n",
       "106               5.84                2.88                 4.3   \n",
       "\n",
       "    Secondary _Boys Secondary _Girls Secondary _Total HrSecondary_Boys  \\\n",
       "104           14.95            19.41             17.3             7.81   \n",
       "105           16.73            19.77            18.34             8.03   \n",
       "106           16.33            19.06             17.8             8.18   \n",
       "\n",
       "    HrSecondary_Girls HrSecondary_Total  \n",
       "104              8.49              8.13  \n",
       "105              7.76               7.9  \n",
       "106              8.04              8.11  "
      ]
     },
     "execution_count": 10,
     "metadata": {},
     "output_type": "execute_result"
    }
   ],
   "source": [
    "data_wb\n"
   ]
  },
  {
   "cell_type": "code",
   "execution_count": 11,
   "id": "2ec24d4c",
   "metadata": {},
   "outputs": [
    {
     "name": "stdout",
     "output_type": "stream",
     "text": [
      "<class 'pandas.core.frame.DataFrame'>\n",
      "Int64Index: 3 entries, 104 to 106\n",
      "Data columns (total 14 columns):\n",
      " #   Column               Non-Null Count  Dtype \n",
      "---  ------               --------------  ----- \n",
      " 0   State_UT             3 non-null      object\n",
      " 1   year                 3 non-null      object\n",
      " 2   Primary_Boys         3 non-null      object\n",
      " 3   Primary_Girls        3 non-null      object\n",
      " 4   Primary_Total        3 non-null      object\n",
      " 5   Upper Primary_Boys   3 non-null      object\n",
      " 6   Upper Primary_Girls  3 non-null      object\n",
      " 7   Upper Primary_Total  3 non-null      object\n",
      " 8   Secondary _Boys      3 non-null      object\n",
      " 9   Secondary _Girls     3 non-null      object\n",
      " 10  Secondary _Total     3 non-null      object\n",
      " 11  HrSecondary_Boys     3 non-null      object\n",
      " 12  HrSecondary_Girls    3 non-null      object\n",
      " 13  HrSecondary_Total    3 non-null      object\n",
      "dtypes: object(14)\n",
      "memory usage: 360.0+ bytes\n"
     ]
    }
   ],
   "source": [
    "data_wb.info()"
   ]
  },
  {
   "cell_type": "code",
   "execution_count": 12,
   "id": "659801e1",
   "metadata": {},
   "outputs": [
    {
     "data": {
      "text/plain": [
       "array(['0.83', '1.35', '0.47', '3.3', '4.31', '6.57', '11.54', '15.84',\n",
       "       '11.51', '7.02', '8.19', '16.07', 'NR', '2.38', '0.35', 'NR', 'NR',\n",
       "       'NR', '4.24', '1.45', '3.08', 'NR', '1.05', '1.6', 'NR', '1.06',\n",
       "       '1.8', 'NR', 'NR', 'NR', 'NR', '0.08', '0.63', '0.21', '0.5',\n",
       "       '0.82', '1.48', '0.22', '5.54', '0.51', '0.57', '0.46', '6.8',\n",
       "       '5.53', '6.98', '7.36', '6.89', '5.91', '3.4', '2.42', '2.03',\n",
       "       'NR', 'NR', 'NR', '2.3', '0', 'NR', '5.75', '9.91', '6.48', '0.88',\n",
       "       '0.51', '1.26', '10.24', '17.27', '9.5', '11.32', '11.3', '10.35',\n",
       "       '24.27', '12.57', '10.17', '7.11', '19.09', '6.18', '3.63', '2.83',\n",
       "       '2.91', '0.25', '0.76', '0.36', '1.99', '1.35', '2.89', '7.2',\n",
       "       '7.76', '5.02', '4.78', '5.55', '3.75', '4.02', '0.53', 'NR',\n",
       "       '6.04', '2.21', '2.31', '3.63', '1.37', '10.53', '7.91', '9.08',\n",
       "       '1.14', '3.28', '4.37', '6.88', '3.44', '2.13', '4.68', '4.53',\n",
       "       '4.36'], dtype=object)"
      ]
     },
     "execution_count": 12,
     "metadata": {},
     "output_type": "execute_result"
    }
   ],
   "source": [
    "dropout[\"Primary_Boys\"].values"
   ]
  },
  {
   "cell_type": "code",
   "execution_count": 13,
   "id": "26a6175d",
   "metadata": {},
   "outputs": [],
   "source": [
    "dropout= dropout.replace('NR',0)"
   ]
  },
  {
   "cell_type": "code",
   "execution_count": 14,
   "id": "85347d79",
   "metadata": {},
   "outputs": [],
   "source": [
    "dropout['Primary_Boys']=dropout['Primary_Boys'].apply(lambda x: float(x))"
   ]
  },
  {
   "cell_type": "code",
   "execution_count": 15,
   "id": "efe6d4e3",
   "metadata": {},
   "outputs": [],
   "source": [
    "dropout['Primary_Girls']=dropout['Primary_Girls'].values.astype(np.float32)"
   ]
  },
  {
   "cell_type": "code",
   "execution_count": 16,
   "id": "91b2c6f0",
   "metadata": {},
   "outputs": [
    {
     "data": {
      "text/plain": [
       "array(['Uppe_r_Primary', 0, '1.44', '3.21', '3.46', '5.09', '4.44',\n",
       "       '5.86', '5.31', '7.89', '7.6', '10.45', 0, '2.77', '4.14', 0,\n",
       "       '0.72', '0.01', '6.09', '4.09', '6.47', '2.59', '3.31', '3.7', 0,\n",
       "       '3.42', '3.14', 0, '3.13', '0.95', 0, 0, 0, '2.75', '3.52', '4.65',\n",
       "       '0.18', '1.97', '5.5', '0.52', '0.6', '0.5', '5.51', '3.86',\n",
       "       '4.98', '4.99', '7.19', '9.01', '4.96', '2.31', '3.46', 0, 0, 0,\n",
       "       '0.97', '1.16', '2.37', '6.79', '9.88', '7.78', '0.89', 0, '0.89',\n",
       "       '5.48', '7.48', '3.61', '8.43', '6.34', '6.77', '19.35', '6.61',\n",
       "       '5.46', '10.15', '18.08', '7.87', '4.1', '3.11', '4.11', '0.33',\n",
       "       '0.37', '0.44', '2.58', '2.52', '2.95', '2.86', '4.49', '2.54',\n",
       "       '2.6', '6.35', '2.07', '0.38', '4.38', 0, '4.63', '2.43', '3.1',\n",
       "       '3.21', '2.37', 0, 0, '0.78', 0, '1.78', '0.79', '6.29', '5.63',\n",
       "       '5.84', '2.3', '3.09', '3.49'], dtype=object)"
      ]
     },
     "execution_count": 16,
     "metadata": {},
     "output_type": "execute_result"
    }
   ],
   "source": [
    "dropout['Upper Primary_Boys'].values"
   ]
  },
  {
   "cell_type": "code",
   "execution_count": 20,
   "id": "36e37015",
   "metadata": {},
   "outputs": [],
   "source": [
    "dropout=dropout.replace('Uppe_r_Primary',0)"
   ]
  },
  {
   "cell_type": "code",
   "execution_count": 21,
   "id": "ebbcdeea",
   "metadata": {},
   "outputs": [],
   "source": [
    "dropout['Upper Primary_Boys']=dropout['Upper Primary_Boys'].values.astype(np.float32)\n",
    "dropout['Upper Primary_Girls']=dropout['Upper Primary_Girls'].values.astype(np.float32)"
   ]
  },
  {
   "cell_type": "code",
   "execution_count": 23,
   "id": "c9f485f9",
   "metadata": {},
   "outputs": [],
   "source": [
    "dropout['Secondary _Boys']=dropout['Secondary _Boys'].values.astype(np.float32)\n",
    "dropout['Secondary _Girls']=dropout['Secondary _Girls'].values.astype(np.float32)"
   ]
  },
  {
   "cell_type": "code",
   "execution_count": 25,
   "id": "90a9ae40",
   "metadata": {},
   "outputs": [],
   "source": [
    "dropout['HrSecondary_Boys']=dropout['HrSecondary_Boys'].values.astype(np.float32)\n",
    "dropout['HrSecondary_Girls']=dropout['HrSecondary_Girls'].values.astype(np.float32)"
   ]
  },
  {
   "cell_type": "code",
   "execution_count": 26,
   "id": "81a17ee4",
   "metadata": {},
   "outputs": [],
   "source": [
    "import matplotlib.pyplot as plt\n",
    "import seaborn as sns"
   ]
  },
  {
   "cell_type": "code",
   "execution_count": 28,
   "id": "4d9f28fc",
   "metadata": {},
   "outputs": [
    {
     "data": {
      "text/html": [
       "<div>\n",
       "<style scoped>\n",
       "    .dataframe tbody tr th:only-of-type {\n",
       "        vertical-align: middle;\n",
       "    }\n",
       "\n",
       "    .dataframe tbody tr th {\n",
       "        vertical-align: top;\n",
       "    }\n",
       "\n",
       "    .dataframe thead th {\n",
       "        text-align: right;\n",
       "    }\n",
       "</style>\n",
       "<table border=\"1\" class=\"dataframe\">\n",
       "  <thead>\n",
       "    <tr style=\"text-align: right;\">\n",
       "      <th></th>\n",
       "      <th>Primary_Boys</th>\n",
       "      <th>Primary_Girls</th>\n",
       "      <th>Upper Primary_Boys</th>\n",
       "      <th>Upper Primary_Girls</th>\n",
       "      <th>Secondary _Boys</th>\n",
       "      <th>Secondary _Girls</th>\n",
       "      <th>HrSecondary_Boys</th>\n",
       "      <th>HrSecondary_Girls</th>\n",
       "    </tr>\n",
       "  </thead>\n",
       "  <tbody>\n",
       "    <tr>\n",
       "      <th>count</th>\n",
       "      <td>110.000000</td>\n",
       "      <td>110.000000</td>\n",
       "      <td>110.000000</td>\n",
       "      <td>110.000000</td>\n",
       "      <td>110.000000</td>\n",
       "      <td>110.000000</td>\n",
       "      <td>110.000000</td>\n",
       "      <td>110.000000</td>\n",
       "    </tr>\n",
       "    <tr>\n",
       "      <th>mean</th>\n",
       "      <td>4.293455</td>\n",
       "      <td>4.010818</td>\n",
       "      <td>3.581908</td>\n",
       "      <td>4.169455</td>\n",
       "      <td>17.162271</td>\n",
       "      <td>16.311455</td>\n",
       "      <td>6.967999</td>\n",
       "      <td>4.979363</td>\n",
       "    </tr>\n",
       "    <tr>\n",
       "      <th>std</th>\n",
       "      <td>4.674719</td>\n",
       "      <td>4.553512</td>\n",
       "      <td>3.388699</td>\n",
       "      <td>3.444964</td>\n",
       "      <td>8.931008</td>\n",
       "      <td>9.403942</td>\n",
       "      <td>7.404572</td>\n",
       "      <td>5.468029</td>\n",
       "    </tr>\n",
       "    <tr>\n",
       "      <th>min</th>\n",
       "      <td>0.000000</td>\n",
       "      <td>0.000000</td>\n",
       "      <td>0.000000</td>\n",
       "      <td>0.000000</td>\n",
       "      <td>0.000000</td>\n",
       "      <td>0.000000</td>\n",
       "      <td>0.000000</td>\n",
       "      <td>0.000000</td>\n",
       "    </tr>\n",
       "    <tr>\n",
       "      <th>25%</th>\n",
       "      <td>0.540000</td>\n",
       "      <td>0.590000</td>\n",
       "      <td>0.782500</td>\n",
       "      <td>1.580000</td>\n",
       "      <td>11.312500</td>\n",
       "      <td>9.385000</td>\n",
       "      <td>0.057500</td>\n",
       "      <td>0.000000</td>\n",
       "    </tr>\n",
       "    <tr>\n",
       "      <th>50%</th>\n",
       "      <td>2.900000</td>\n",
       "      <td>2.440000</td>\n",
       "      <td>3.120000</td>\n",
       "      <td>3.535000</td>\n",
       "      <td>16.105000</td>\n",
       "      <td>14.985000</td>\n",
       "      <td>5.680000</td>\n",
       "      <td>3.880000</td>\n",
       "    </tr>\n",
       "    <tr>\n",
       "      <th>75%</th>\n",
       "      <td>6.742500</td>\n",
       "      <td>5.870000</td>\n",
       "      <td>5.422500</td>\n",
       "      <td>5.835000</td>\n",
       "      <td>23.012500</td>\n",
       "      <td>21.682500</td>\n",
       "      <td>11.765000</td>\n",
       "      <td>8.470000</td>\n",
       "    </tr>\n",
       "    <tr>\n",
       "      <th>max</th>\n",
       "      <td>24.270000</td>\n",
       "      <td>23.930000</td>\n",
       "      <td>19.350000</td>\n",
       "      <td>19.209999</td>\n",
       "      <td>50.090000</td>\n",
       "      <td>49.619999</td>\n",
       "      <td>44.380001</td>\n",
       "      <td>36.049999</td>\n",
       "    </tr>\n",
       "  </tbody>\n",
       "</table>\n",
       "</div>"
      ],
      "text/plain": [
       "       Primary_Boys  Primary_Girls  Upper Primary_Boys  Upper Primary_Girls  \\\n",
       "count    110.000000     110.000000          110.000000           110.000000   \n",
       "mean       4.293455       4.010818            3.581908             4.169455   \n",
       "std        4.674719       4.553512            3.388699             3.444964   \n",
       "min        0.000000       0.000000            0.000000             0.000000   \n",
       "25%        0.540000       0.590000            0.782500             1.580000   \n",
       "50%        2.900000       2.440000            3.120000             3.535000   \n",
       "75%        6.742500       5.870000            5.422500             5.835000   \n",
       "max       24.270000      23.930000           19.350000            19.209999   \n",
       "\n",
       "       Secondary _Boys  Secondary _Girls  HrSecondary_Boys  HrSecondary_Girls  \n",
       "count       110.000000        110.000000        110.000000         110.000000  \n",
       "mean         17.162271         16.311455          6.967999           4.979363  \n",
       "std           8.931008          9.403942          7.404572           5.468029  \n",
       "min           0.000000          0.000000          0.000000           0.000000  \n",
       "25%          11.312500          9.385000          0.057500           0.000000  \n",
       "50%          16.105000         14.985000          5.680000           3.880000  \n",
       "75%          23.012500         21.682500         11.765000           8.470000  \n",
       "max          50.090000         49.619999         44.380001          36.049999  "
      ]
     },
     "execution_count": 28,
     "metadata": {},
     "output_type": "execute_result"
    }
   ],
   "source": [
    "dropout.describe()"
   ]
  },
  {
   "cell_type": "code",
   "execution_count": 29,
   "id": "b5e33c69",
   "metadata": {},
   "outputs": [
    {
     "name": "stdout",
     "output_type": "stream",
     "text": [
      "<class 'pandas.core.frame.DataFrame'>\n",
      "RangeIndex: 110 entries, 0 to 109\n",
      "Data columns (total 14 columns):\n",
      " #   Column               Non-Null Count  Dtype  \n",
      "---  ------               --------------  -----  \n",
      " 0   State_UT             110 non-null    object \n",
      " 1   year                 110 non-null    object \n",
      " 2   Primary_Boys         110 non-null    float64\n",
      " 3   Primary_Girls        110 non-null    float32\n",
      " 4   Primary_Total        110 non-null    object \n",
      " 5   Upper Primary_Boys   110 non-null    float32\n",
      " 6   Upper Primary_Girls  110 non-null    float32\n",
      " 7   Upper Primary_Total  110 non-null    object \n",
      " 8   Secondary _Boys      110 non-null    float32\n",
      " 9   Secondary _Girls     110 non-null    float32\n",
      " 10  Secondary _Total     110 non-null    object \n",
      " 11  HrSecondary_Boys     110 non-null    float32\n",
      " 12  HrSecondary_Girls    110 non-null    float32\n",
      " 13  HrSecondary_Total    110 non-null    object \n",
      "dtypes: float32(7), float64(1), object(6)\n",
      "memory usage: 9.1+ KB\n"
     ]
    }
   ],
   "source": [
    "dropout.info()"
   ]
  },
  {
   "cell_type": "code",
   "execution_count": 30,
   "id": "10b1fb3b",
   "metadata": {},
   "outputs": [
    {
     "name": "stderr",
     "output_type": "stream",
     "text": [
      "C:\\Users\\Lenovo\\anaconda3\\lib\\site-packages\\seaborn\\_decorators.py:36: FutureWarning: Pass the following variable as a keyword arg: x. From version 0.12, the only valid positional argument will be `data`, and passing other arguments without an explicit keyword will result in an error or misinterpretation.\n",
      "  warnings.warn(\n"
     ]
    },
    {
     "data": {
      "text/plain": [
       "<AxesSubplot:xlabel='State_UT', ylabel='count'>"
      ]
     },
     "execution_count": 30,
     "metadata": {},
     "output_type": "execute_result"
    },
    {
     "data": {
      "image/png": "[encoded data removed]",
      "text/plain": [
       "<Figure size 2520x1080 with 1 Axes>"
      ]
     },
     "metadata": {
      "needs_background": "light"
     },
     "output_type": "display_data"
    }
   ],
   "source": [
    "plt.figure(figsize= (35,15))\n",
    "\n",
    "sns.countplot(dropout['State_UT'])"
   ]
  },
  {
   "cell_type": "code",
   "execution_count": 31,
   "id": "00afbcb9",
   "metadata": {},
   "outputs": [
    {
     "data": {
      "text/html": [
       "<div>\n",
       "<style scoped>\n",
       "    .dataframe tbody tr th:only-of-type {\n",
       "        vertical-align: middle;\n",
       "    }\n",
       "\n",
       "    .dataframe tbody tr th {\n",
       "        vertical-align: top;\n",
       "    }\n",
       "\n",
       "    .dataframe thead th {\n",
       "        text-align: right;\n",
       "    }\n",
       "</style>\n",
       "<table border=\"1\" class=\"dataframe\">\n",
       "  <thead>\n",
       "    <tr style=\"text-align: right;\">\n",
       "      <th></th>\n",
       "      <th>State_UT</th>\n",
       "      <th>year</th>\n",
       "      <th>Primary_Boys</th>\n",
       "      <th>Primary_Girls</th>\n",
       "      <th>Primary_Total</th>\n",
       "      <th>Upper Primary_Boys</th>\n",
       "      <th>Upper Primary_Girls</th>\n",
       "      <th>Upper Primary_Total</th>\n",
       "      <th>Secondary _Boys</th>\n",
       "      <th>Secondary _Girls</th>\n",
       "      <th>Secondary _Total</th>\n",
       "      <th>HrSecondary_Boys</th>\n",
       "      <th>HrSecondary_Girls</th>\n",
       "      <th>HrSecondary_Total</th>\n",
       "    </tr>\n",
       "  </thead>\n",
       "  <tbody>\n",
       "    <tr>\n",
       "      <th>104</th>\n",
       "      <td>West Bengal</td>\n",
       "      <td>2012-13</td>\n",
       "      <td>6.88</td>\n",
       "      <td>5.71</td>\n",
       "      <td>6.3</td>\n",
       "      <td>6.29</td>\n",
       "      <td>4.16</td>\n",
       "      <td>5.18</td>\n",
       "      <td>14.95</td>\n",
       "      <td>19.41</td>\n",
       "      <td>17.3</td>\n",
       "      <td>7.81</td>\n",
       "      <td>8.49</td>\n",
       "      <td>8.13</td>\n",
       "    </tr>\n",
       "    <tr>\n",
       "      <th>105</th>\n",
       "      <td>West Bengal</td>\n",
       "      <td>2013-14</td>\n",
       "      <td>3.44</td>\n",
       "      <td>2.37</td>\n",
       "      <td>2.91</td>\n",
       "      <td>5.63</td>\n",
       "      <td>3.1</td>\n",
       "      <td>4.31</td>\n",
       "      <td>16.73</td>\n",
       "      <td>19.77</td>\n",
       "      <td>18.34</td>\n",
       "      <td>8.03</td>\n",
       "      <td>7.76</td>\n",
       "      <td>7.9</td>\n",
       "    </tr>\n",
       "    <tr>\n",
       "      <th>106</th>\n",
       "      <td>West Bengal</td>\n",
       "      <td>2014-15</td>\n",
       "      <td>2.13</td>\n",
       "      <td>0.79</td>\n",
       "      <td>1.47</td>\n",
       "      <td>5.84</td>\n",
       "      <td>2.88</td>\n",
       "      <td>4.3</td>\n",
       "      <td>16.33</td>\n",
       "      <td>19.06</td>\n",
       "      <td>17.8</td>\n",
       "      <td>8.18</td>\n",
       "      <td>8.04</td>\n",
       "      <td>8.11</td>\n",
       "    </tr>\n",
       "  </tbody>\n",
       "</table>\n",
       "</div>"
      ],
      "text/plain": [
       "        State_UT     year Primary_Boys Primary_Girls Primary_Total  \\\n",
       "104  West Bengal  2012-13         6.88          5.71           6.3   \n",
       "105  West Bengal  2013-14         3.44          2.37          2.91   \n",
       "106  West Bengal  2014-15         2.13          0.79          1.47   \n",
       "\n",
       "    Upper Primary_Boys Upper Primary_Girls Upper Primary_Total  \\\n",
       "104               6.29                4.16                5.18   \n",
       "105               5.63                 3.1                4.31   \n",
       "106               5.84                2.88                 4.3   \n",
       "\n",
       "    Secondary _Boys Secondary _Girls Secondary _Total HrSecondary_Boys  \\\n",
       "104           14.95            19.41             17.3             7.81   \n",
       "105           16.73            19.77            18.34             8.03   \n",
       "106           16.33            19.06             17.8             8.18   \n",
       "\n",
       "    HrSecondary_Girls HrSecondary_Total  \n",
       "104              8.49              8.13  \n",
       "105              7.76               7.9  \n",
       "106              8.04              8.11  "
      ]
     },
     "execution_count": 31,
     "metadata": {},
     "output_type": "execute_result"
    }
   ],
   "source": [
    "data_wb.head()"
   ]
  },
  {
   "cell_type": "code",
   "execution_count": 32,
   "id": "1c42ee2f",
   "metadata": {},
   "outputs": [
    {
     "data": {
      "image/png": "[encoded data removed]",
      "text/plain": [
       "<Figure size 432x288 with 1 Axes>"
      ]
     },
     "metadata": {
      "needs_background": "light"
     },
     "output_type": "display_data"
    }
   ],
   "source": [
    "plt.bar(data_wb['Primary_Girls'],data_wb['year'])\n",
    "plt.xlabel('Primary_Girls')\n",
    "plt.ylabel('Year')\n",
    "plt.title('Year basis Primary_Girls ratio in west bengal')\n",
    "plt.show()"
   ]
  },
  {
   "cell_type": "code",
   "execution_count": 35,
   "id": "ac543a5e",
   "metadata": {},
   "outputs": [
    {
     "data": {
      "image/png": "[encoded data removed]",
      "text/plain": [
       "<Figure size 432x288 with 1 Axes>"
      ]
     },
     "metadata": {
      "needs_background": "light"
     },
     "output_type": "display_data"
    }
   ],
   "source": [
    "plt.bar(dropout['Secondary _Girls'],dropout['year'])\n",
    "plt.xlabel('Secondary _Girls')\n",
    "plt.ylabel('Year')\n",
    "plt.title('Year basis Secondary_Girls ratio ')\n",
    "plt.show()"
   ]
  },
  {
   "cell_type": "code",
   "execution_count": 36,
   "id": "86106355",
   "metadata": {},
   "outputs": [
    {
     "data": {
      "image/png": "[encoded data removed]",
      "text/plain": [
       "<Figure size 432x288 with 1 Axes>"
      ]
     },
     "metadata": {
      "needs_background": "light"
     },
     "output_type": "display_data"
    }
   ],
   "source": [
    "plt.bar(dropout['Primary_Boys'],dropout['year'])\n",
    "plt.xlabel('Primary_Boys')\n",
    "plt.ylabel('Year')\n",
    "plt.title('Year basis Primary_Boys ratio ')\n",
    "plt.show()"
   ]
  },
  {
   "cell_type": "code",
   "execution_count": 38,
   "id": "ffa0ef00",
   "metadata": {},
   "outputs": [
    {
     "data": {
      "image/png": "[encoded data removed]",
      "text/plain": [
       "<Figure size 432x288 with 1 Axes>"
      ]
     },
     "metadata": {
      "needs_background": "light"
     },
     "output_type": "display_data"
    }
   ],
   "source": [
    "plt.bar(data_wb['Upper Primary_Girls'],data_wb['year'])\n",
    "plt.xlabel('Upper Primary_Girls')\n",
    "plt.ylabel('Year')\n",
    "plt.title('Year basis Upper Primary_Girls ratio vs year')\n",
    "plt.show()"
   ]
  },
  {
   "cell_type": "code",
   "execution_count": 39,
   "id": "cd94d923",
   "metadata": {},
   "outputs": [
    {
     "data": {
      "text/plain": [
       "(array([52., 25., 18., 11.,  3.,  0.,  0.,  0.,  0.,  1.]),\n",
       " array([ 0.      ,  3.605   ,  7.21    , 10.815   , 14.42    , 18.025   ,\n",
       "        21.63    , 25.234999, 28.84    , 32.445   , 36.05    ],\n",
       "       dtype=float32),\n",
       " <BarContainer object of 10 artists>)"
      ]
     },
     "execution_count": 39,
     "metadata": {},
     "output_type": "execute_result"
    },
    {
     "data": {
      "image/png": "[encoded data removed]",
      "text/plain": [
       "<Figure size 432x288 with 1 Axes>"
      ]
     },
     "metadata": {
      "needs_background": "light"
     },
     "output_type": "display_data"
    }
   ],
   "source": [
    "plt.hist(dropout['HrSecondary_Girls'])"
   ]
  },
  {
   "cell_type": "code",
   "execution_count": 41,
   "id": "420846ab",
   "metadata": {},
   "outputs": [
    {
     "data": {
      "text/plain": [
       "Index(['State_UT', 'year', 'Primary_Boys', 'Primary_Girls', 'Primary_Total',\n",
       "       'Upper Primary_Boys', 'Upper Primary_Girls', 'Upper Primary_Total',\n",
       "       'Secondary _Boys', 'Secondary _Girls', 'Secondary _Total',\n",
       "       'HrSecondary_Boys', 'HrSecondary_Girls', 'HrSecondary_Total'],\n",
       "      dtype='object')"
      ]
     },
     "execution_count": 41,
     "metadata": {},
     "output_type": "execute_result"
    }
   ],
   "source": [
    "dropout.columns"
   ]
  },
  {
   "cell_type": "code",
   "execution_count": 44,
   "id": "38a7d8b7",
   "metadata": {},
   "outputs": [
    {
     "name": "stderr",
     "output_type": "stream",
     "text": [
      "C:\\Users\\Lenovo\\anaconda3\\lib\\site-packages\\seaborn\\_decorators.py:36: FutureWarning: Pass the following variable as a keyword arg: x. From version 0.12, the only valid positional argument will be `data`, and passing other arguments without an explicit keyword will result in an error or misinterpretation.\n",
      "  warnings.warn(\n",
      "C:\\Users\\Lenovo\\anaconda3\\lib\\site-packages\\seaborn\\_decorators.py:36: FutureWarning: Pass the following variable as a keyword arg: x. From version 0.12, the only valid positional argument will be `data`, and passing other arguments without an explicit keyword will result in an error or misinterpretation.\n",
      "  warnings.warn(\n",
      "C:\\Users\\Lenovo\\anaconda3\\lib\\site-packages\\seaborn\\_decorators.py:36: FutureWarning: Pass the following variable as a keyword arg: x. From version 0.12, the only valid positional argument will be `data`, and passing other arguments without an explicit keyword will result in an error or misinterpretation.\n",
      "  warnings.warn(\n",
      "C:\\Users\\Lenovo\\anaconda3\\lib\\site-packages\\seaborn\\_decorators.py:36: FutureWarning: Pass the following variable as a keyword arg: x. From version 0.12, the only valid positional argument will be `data`, and passing other arguments without an explicit keyword will result in an error or misinterpretation.\n",
      "  warnings.warn(\n",
      "C:\\Users\\Lenovo\\anaconda3\\lib\\site-packages\\seaborn\\_decorators.py:36: FutureWarning: Pass the following variable as a keyword arg: x. From version 0.12, the only valid positional argument will be `data`, and passing other arguments without an explicit keyword will result in an error or misinterpretation.\n",
      "  warnings.warn(\n",
      "C:\\Users\\Lenovo\\anaconda3\\lib\\site-packages\\seaborn\\_decorators.py:36: FutureWarning: Pass the following variable as a keyword arg: x. From version 0.12, the only valid positional argument will be `data`, and passing other arguments without an explicit keyword will result in an error or misinterpretation.\n",
      "  warnings.warn(\n"
     ]
    },
    {
     "data": {
      "text/plain": [
       "<AxesSubplot:xlabel='Secondary _Boys'>"
      ]
     },
     "execution_count": 44,
     "metadata": {},
     "output_type": "execute_result"
    },
    {
     "data": {
      "image/png": "[encoded data removed]",
      "text/plain": [
       "<Figure size 1440x1080 with 6 Axes>"
      ]
     },
     "metadata": {
      "needs_background": "light"
     },
     "output_type": "display_data"
    }
   ],
   "source": [
    "# outlier detection using boxplots\n",
    "plt.figure(figsize=(20,15))\n",
    "plt.subplot(4,4,1)\n",
    "sns.boxplot(dropout['HrSecondary_Girls'])\n",
    "\n",
    "plt.subplot(4,4,2)\n",
    "sns.boxplot(dropout['HrSecondary_Boys'])\n",
    "\n",
    "plt.subplot(4,4,3)\n",
    "sns.boxplot(dropout['Upper Primary_Boys'])\n",
    "\n",
    "plt.subplot(4,4,4)\n",
    "sns.boxplot(dropout['Upper Primary_Girls'])\n",
    "\n",
    "plt.subplot(4,4,5)\n",
    "sns.boxplot(dropout['Secondary _Girls'])\n",
    "\n",
    "plt.subplot(4,4,6)\n",
    "sns.boxplot(dropout['Secondary _Boys'])\n",
    "\n",
    "\n",
    "\n",
    "                    "
   ]
  },
  {
   "cell_type": "code",
   "execution_count": 47,
   "id": "bf48bcc2",
   "metadata": {},
   "outputs": [],
   "source": [
    "# using clip to remove outlier\n",
    "dropout['HrSecondary_Girls']=dropout['HrSecondary_Girls'].clip(lower=dropout[\"HrSecondary_Girls\"].quantile(0.05),upper=dropout['HrSecondary_Girls'].quantile(0.95))"
   ]
  },
  {
   "cell_type": "code",
   "execution_count": 49,
   "id": "d25b6ca0",
   "metadata": {},
   "outputs": [],
   "source": [
    "dropout['HrSecondary_Boys']=dropout['HrSecondary_Boys'].clip(lower=dropout[\"HrSecondary_Boys\"].quantile(0.05),upper=dropout['HrSecondary_Boys'].quantile(0.95))"
   ]
  },
  {
   "cell_type": "code",
   "execution_count": 51,
   "id": "57f86640",
   "metadata": {},
   "outputs": [],
   "source": [
    "dropout['Upper Primary_Boys']=dropout['Upper Primary_Boys'].clip(lower=dropout[\"Upper Primary_Boys\"].quantile(0.05),upper=dropout['Upper Primary_Boys'].quantile(0.95))"
   ]
  },
  {
   "cell_type": "code",
   "execution_count": 52,
   "id": "cdbb8be7",
   "metadata": {},
   "outputs": [],
   "source": [
    "dropout['Upper Primary_Girls']=dropout['Upper Primary_Girls'].clip(lower=dropout[\"Upper Primary_Girls\"].quantile(0.05),upper=dropout['Upper Primary_Girls'].quantile(0.95))"
   ]
  },
  {
   "cell_type": "code",
   "execution_count": 53,
   "id": "2f5a4578",
   "metadata": {},
   "outputs": [],
   "source": [
    "dropout['Secondary _Boys']=dropout['Secondary _Boys'].clip(lower=dropout[\"Secondary _Boys\"].quantile(0.05),upper=dropout['Secondary _Boys'].quantile(0.95))"
   ]
  },
  {
   "cell_type": "code",
   "execution_count": 54,
   "id": "8c6752b8",
   "metadata": {},
   "outputs": [],
   "source": [
    "dropout['Secondary _Girls']=dropout['Secondary _Girls'].clip(lower=dropout[\"Secondary _Girls\"].quantile(0.05),upper=dropout['Secondary _Girls'].quantile(0.95))"
   ]
  },
  {
   "cell_type": "code",
   "execution_count": 55,
   "id": "c24ebba3",
   "metadata": {},
   "outputs": [
    {
     "name": "stderr",
     "output_type": "stream",
     "text": [
      "C:\\Users\\Lenovo\\anaconda3\\lib\\site-packages\\seaborn\\_decorators.py:36: FutureWarning: Pass the following variable as a keyword arg: x. From version 0.12, the only valid positional argument will be `data`, and passing other arguments without an explicit keyword will result in an error or misinterpretation.\n",
      "  warnings.warn(\n",
      "C:\\Users\\Lenovo\\anaconda3\\lib\\site-packages\\seaborn\\_decorators.py:36: FutureWarning: Pass the following variable as a keyword arg: x. From version 0.12, the only valid positional argument will be `data`, and passing other arguments without an explicit keyword will result in an error or misinterpretation.\n",
      "  warnings.warn(\n",
      "C:\\Users\\Lenovo\\anaconda3\\lib\\site-packages\\seaborn\\_decorators.py:36: FutureWarning: Pass the following variable as a keyword arg: x. From version 0.12, the only valid positional argument will be `data`, and passing other arguments without an explicit keyword will result in an error or misinterpretation.\n",
      "  warnings.warn(\n",
      "C:\\Users\\Lenovo\\anaconda3\\lib\\site-packages\\seaborn\\_decorators.py:36: FutureWarning: Pass the following variable as a keyword arg: x. From version 0.12, the only valid positional argument will be `data`, and passing other arguments without an explicit keyword will result in an error or misinterpretation.\n",
      "  warnings.warn(\n",
      "C:\\Users\\Lenovo\\anaconda3\\lib\\site-packages\\seaborn\\_decorators.py:36: FutureWarning: Pass the following variable as a keyword arg: x. From version 0.12, the only valid positional argument will be `data`, and passing other arguments without an explicit keyword will result in an error or misinterpretation.\n",
      "  warnings.warn(\n",
      "C:\\Users\\Lenovo\\anaconda3\\lib\\site-packages\\seaborn\\_decorators.py:36: FutureWarning: Pass the following variable as a keyword arg: x. From version 0.12, the only valid positional argument will be `data`, and passing other arguments without an explicit keyword will result in an error or misinterpretation.\n",
      "  warnings.warn(\n"
     ]
    },
    {
     "data": {
      "text/plain": [
       "<AxesSubplot:xlabel='Secondary _Boys'>"
      ]
     },
     "execution_count": 55,
     "metadata": {},
     "output_type": "execute_result"
    },
    {
     "data": {
      "image/png": "[encoded data removed]",
      "text/plain": [
       "<Figure size 1440x1080 with 6 Axes>"
      ]
     },
     "metadata": {
      "needs_background": "light"
     },
     "output_type": "display_data"
    }
   ],
   "source": [
    "plt.figure(figsize=(20,15))\n",
    "plt.subplot(4,4,1)\n",
    "sns.boxplot(dropout['HrSecondary_Girls'])\n",
    "\n",
    "plt.subplot(4,4,2)\n",
    "sns.boxplot(dropout['HrSecondary_Boys'])\n",
    "\n",
    "plt.subplot(4,4,3)\n",
    "sns.boxplot(dropout['Upper Primary_Boys'])\n",
    "\n",
    "plt.subplot(4,4,4)\n",
    "sns.boxplot(dropout['Upper Primary_Girls'])\n",
    "\n",
    "plt.subplot(4,4,5)\n",
    "sns.boxplot(dropout['Secondary _Girls'])\n",
    "\n",
    "plt.subplot(4,4,6)\n",
    "sns.boxplot(dropout['Secondary _Boys'])\n",
    "\n"
   ]
  },
  {
   "cell_type": "code",
   "execution_count": null,
   "id": "5e941610",
   "metadata": {},
   "outputs": [],
   "source": []
  }
 ],
 "metadata": {
  "kernelspec": {
   "display_name": "Python 3 (ipykernel)",
   "language": "python",
   "name": "python3"
  },
  "language_info": {
   "codemirror_mode": {
    "name": "ipython",
    "version": 3
   },
   "file_extension": ".py",
   "mimetype": "text/x-python",
   "name": "python",
   "nbconvert_exporter": "python",
   "pygments_lexer": "ipython3",
   "version": "3.9.7"
  }
 },
 "nbformat": 4,
 "nbformat_minor": 5
}
